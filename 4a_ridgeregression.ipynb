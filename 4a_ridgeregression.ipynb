{
 "cells": [
  {
   "cell_type": "code",
   "execution_count": 20,
   "metadata": {},
   "outputs": [
    {
     "name": "stdout",
     "output_type": "stream",
     "text": [
      "The blackcellmagic extension is already loaded. To reload it, use:\n",
      "  %reload_ext blackcellmagic\n"
     ]
    }
   ],
   "source": [
    "\n",
    "%load_ext blackcellmagic\n",
    "from pathlib import Path\n",
    "\n",
    "import matplotlib.pyplot as plt\n",
    "import numpy as np\n",
    "import pandas as pd\n",
    "import torch\n",
    "from sklearn import preprocessing\n",
    "from sklearn.linear_model import Ridge\n",
    "from sklearn.model_selection import (RepeatedKFold, cross_val_score,\n",
    "                                     train_test_split)\n",
    "\n",
    "from src.dataloader import DataLoader\n",
    "\n",
    "from sklearn.metrics import r2_score"
   ]
  },
  {
   "cell_type": "code",
   "execution_count": 14,
   "metadata": {},
   "outputs": [],
   "source": [
    "# set output to just 2 sig digits\n",
    "np.set_printoptions(precision=2)\n",
    "\n",
    "# Import the dataframe from our dataloader class\n",
    "df = DataLoader().get_data_frame(date=\"Jun22_2020\")\n",
    "\n",
    "feature_names = list(df.columns)[1:]\n",
    "\n",
    "# feature selection by SelectKBest, Pearson's corr coeff\n",
    "sel_features = ['blue-blue-444', 'green-531-red', 'nir-red-edge', 'nir-red-edge-740']\n",
    "\n",
    "# X and y\n",
    "# feat_idx = df.columns[df.columns.isin(sel_features)].values\n",
    "# print(X.shape)\n",
    "X = df.loc[:, sel_features].values\n",
    "y = df['yield'].values\n",
    "\n",
    "# train test Split (0.7/0.3)\n",
    "X_train, X_test, y_train, y_test = train_test_split(X, y, train_size=0.7, random_state=26, shuffle=True)\n",
    "\n",
    "# test validate split (0.3 split into 0.15/0.15)\n",
    "X_test, X_val, y_test, y_val = train_test_split(X_test, y_test, train_size=0.5, random_state=26, shuffle=True)\n",
    "# Important Note! Feature selection should be done AFTER test/train split, to avoid information leakage\n"
   ]
  },
  {
   "cell_type": "markdown",
   "metadata": {},
   "source": [
    "# Standard scaling features\n",
    "Standardization of features according to: x'=(x-µ)/ σ. Sets mean to 0 and unit variance to 1. <br>\n",
    "\n",
    "Z-score Feature Scaling: https://developers.google.com/machine-learning/data-prep/transform/normalization\n",
    "\n",
    "Greek symbols in ascii are produced like so:<br>\n",
    "µ = Alt + 230 <br>\n",
    "σ = Alt + 229 <br>\n",
    "Φ = Alt + 232 <br>\n",
    "<br>\n",
    "https://www.keynotesupport.com/internet/special-characters-greek-letters-symbols.shtml"
   ]
  },
  {
   "cell_type": "code",
   "execution_count": 15,
   "metadata": {},
   "outputs": [],
   "source": [
    "#  train the scaler ONLY on the training set. Then use it to scale train/test/val\n",
    "scaler = preprocessing.StandardScaler()\n",
    "X_train = scaler.fit_transform(X_train) # trains the scaler using fit on X_train, then transforms X_train as well\n",
    "X_test = scaler.transform(X_test) # no fit, transforms using data from fit() stored in the scaler\n",
    "X_val = scaler.transform(X_val)\n"
   ]
  },
  {
   "cell_type": "code",
   "execution_count": 19,
   "metadata": {},
   "outputs": [
    {
     "name": "stdout",
     "output_type": "stream",
     "text": [
      "Mean MAE: 115.5706969264516 (38.26029529388733)\n",
      "coeff: [  24.8    18.55 -118.75  148.79], intercept: 840.9064347574997\n"
     ]
    }
   ],
   "source": [
    "\n",
    "# #### Ridge regression model\n",
    "\n",
    "\n",
    "# define Ridge regression linear model\n",
    "lm = Ridge(alpha=1.0)\n",
    "\n",
    "# define model evaluation method\n",
    "cv = RepeatedKFold(n_splits=10, n_repeats=3, random_state=1)\n",
    "\n",
    "#evaluate model\n",
    "scores = np.absolute(cross_val_score(lm, X_train, y_train, scoring='neg_mean_absolute_error', cv=cv, n_jobs=1))\n",
    "print(f\"Mean MAE: {np.mean(scores)} ({np.std(scores)})\")\n",
    "\n",
    "# fit model\n",
    "lm.fit(X_train, y_train)\n",
    "\n",
    "\n"
   ]
  },
  {
   "cell_type": "code",
   "execution_count": 23,
   "metadata": {},
   "outputs": [
    {
     "name": "stdout",
     "output_type": "stream",
     "text": [
      "coeff: [  24.8    18.55 -118.75  148.79], intercept: 840.9064347574997\n"
     ]
    },
    {
     "data": {
      "image/png": "[encoded data removed]",
      "text/plain": [
       "<Figure size 432x576 with 2 Axes>"
      ]
     },
     "metadata": {
      "needs_background": "light"
     },
     "output_type": "display_data"
    }
   ],
   "source": [
    "# test predictions\n",
    "y_pred_t = lm.predict(X_test)\n",
    "print(f\"coeff: {lm.coef_}, intercept: {lm.intercept_}\")\n",
    "\n",
    "r2 = r2_score(y_test, y_pred_t)\n",
    "\n",
    "# validation predictions\n",
    "y_pred_v = lm.predict(X_val)\n",
    "r2 = r2_score(y_val, y_pred_v)\n",
    "\n",
    "# Display the images as one figure.\n",
    "fig, axs = plt.subplots(1, 2)\n",
    "\n",
    "axs[0].scatter(y_test, y_pred_t)\n",
    "axs[0].annotate(\n",
    "    \"a\",\n",
    "    xy=(0.05, 0.98),\n",
    "    xycoords=\"axes fraction\",\n",
    "    fontsize=16,\n",
    "    horizontalalignment=\"left\",\n",
    "    verticalalignment=\"top\",\n",
    ")\n",
    "axs[0].annotate(\n",
    "    f\"$r^2$ = {round(r2_score(y_test, y_pred_t), 2)}\",\n",
    "    xy=(1, 1),\n",
    "    xycoords=\"axes fraction\",\n",
    "    fontsize=8,\n",
    "    horizontalalignment=\"right\",\n",
    "    verticalalignment=\"top\",\n",
    ")\n",
    "\n",
    "\n",
    "axs[1].scatter(y_val, y_pred_v)\n",
    "axs[1].annotate(\"r^2 = {:.3f}\".format(r2_score(y_val, y_pred_v)), (750, 960))\n",
    "\n",
    "fig.tight_layout()\n",
    "fig.set_figheight(8)"
   ]
  }
 ],
 "metadata": {
  "interpreter": {
   "hash": "97cbd93eb894fbab1a265c53fc61c23367c51d32364bda84dce3a4fe8ebbc10f"
  },
  "kernelspec": {
   "display_name": "Python 3.9.5 64-bit ('image-analysis': conda)",
   "name": "python3"
  },
  "language_info": {
   "codemirror_mode": {
    "name": "ipython",
    "version": 3
   },
   "file_extension": ".py",
   "mimetype": "text/x-python",
   "name": "python",
   "nbconvert_exporter": "python",
   "pygments_lexer": "ipython3",
   "version": "3.9.5"
  },
  "orig_nbformat": 4
 },
 "nbformat": 4,
 "nbformat_minor": 2
}
