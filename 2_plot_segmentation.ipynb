{
 "cells": [
  {
   "cell_type": "code",
   "execution_count": 10,
   "metadata": {},
   "outputs": [
    {
     "name": "stdout",
     "output_type": "stream",
     "text": [
      "The blackcellmagic extension is already loaded. To reload it, use:\n",
      "  %reload_ext blackcellmagic\n"
     ]
    }
   ],
   "source": [
    "%load_ext blackcellmagic\n",
    "%matplotlib inline\n",
    "import numpy as np\n",
    "import matplotlib.pyplot as plt\n",
    "import pandas as pd\n",
    "import os\n",
    "from pathlib import Path\n",
    "import glob\n",
    "import yaml\n",
    "from datetime import date\n",
    "from scipy import ndimage\n",
    "from PIL import Image\n",
    "import matplotlib.pyplot as plt\n",
    "import cv2 as cv\n",
    "import ipywidgets as widget\n",
    "from IPython.display import display\n",
    "import imageio\n",
    " # pyright: reportMissingModuleSource=false "
   ]
  },
  {
   "cell_type": "code",
   "execution_count": null,
   "metadata": {},
   "outputs": [],
   "source": []
  },
  {
   "cell_type": "code",
   "execution_count": 11,
   "metadata": {},
   "outputs": [],
   "source": [
    "METADATA = {\n",
    "    \"author\": \"Magnus Wood\",\n",
    "}\n",
    "\n",
    "# define notebook parameters\n",
    "params = {\n",
    "    \"project_stub\": \"Potato_Fertilizer_Othello\",\n",
    "    \"image_format\": \"*.tif\",\n",
    "    \"data_acquisition_date\": \"Jun22_2020\",\n",
    "    \"NDVI_threshold\": 0.3,\n",
    "    \"data_import_path\": Path.cwd() / \"data\" / \"raw\" / \"Jun22_2020\",\n",
    "    \"data_export_path\": Path.cwd() / \"data\" / \"processed\" / \"Jun22_2020\",\n",
    "    \"plot_export_path\": Path.cwd() / \"image_export\" ,\n",
    "    \"ground_truth_path\": Path.cwd() / \"data\" / \"raw\" / \"ground_truth.csv\",\n",
    "}\n",
    "\n",
    "# export the params file for reference\n",
    "with open(\n",
    "    Path.cwd()\n",
    "    / \"config\"\n",
    "    / (str(date.today()) + \"_\" + params[\"data_acquisition_date\"] + \"_\" + \"params.yaml\"),\n",
    "    \"w\",\n",
    ") as file:\n",
    "    documents = yaml.dump(params, file)\n",
    "\n",
    "# define camera wavelengths and file image labels in a dict\n",
    "# RedEdge-MX Dual Camera Imaging System bands\n",
    "# channel names: blue-444, blue, green-531, green, red-650, red, red-edge-705, red-edge, red-edge-740, nir\n",
    "rededge_mx_band_wl = {\n",
    "    \"blue-444\": 444,\n",
    "    \"blue\": 475,\n",
    "    \"green-531\": 531,\n",
    "    \"green\": 560,\n",
    "    \"red-650\": 650,\n",
    "    \"red\": 668,\n",
    "    \"red-edge-705\": 705,\n",
    "    \"red-edge\": 717,\n",
    "    \"red-edge-740\": 740,\n",
    "    \"nir\": 842,\n",
    "}\n",
    "\n",
    "ground_truth = pd.read_csv(params[\"ground_truth_path\"])\n"
   ]
  },
  {
   "cell_type": "code",
   "execution_count": 12,
   "metadata": {},
   "outputs": [],
   "source": [
    "### useful functions\n",
    "def show_image(image):\n",
    "    \"\"\" plot array as img \"\"\"\n",
    "    plt.figure(figsize=(8, 30))\n",
    "    plt.imshow(image, cmap=\"viridis\")\n",
    "\n",
    "def calc_spec_idx(band_a, band_b) -> np.array:\n",
    "    \"\"\" calculates spectral index from np.array in form:\n",
    "    (band_a - band_b) / (band_a + band_b), avoids divide by zero error \"\"\"\n",
    "    numer = np.subtract(band_a, band_b)\n",
    "    denom = np.add(band_a, band_b)\n",
    "    return np.divide(numer, denom, out=np.zeros_like(numer), where=(denom != 0))"
   ]
  },
  {
   "cell_type": "markdown",
   "metadata": {},
   "source": [
    "# Load numpy array with all the bands\n",
    "Verify that the loaded image has the expected number of bands before continuing. The order of a numpy array is (bands, y, x)"
   ]
  }
 ],
 "metadata": {
  "interpreter": {
   "hash": "97cbd93eb894fbab1a265c53fc61c23367c51d32364bda84dce3a4fe8ebbc10f"
  },
  "kernelspec": {
   "display_name": "Python 3.9.5 64-bit ('image-analysis': conda)",
   "name": "python3"
  },
  "language_info": {
   "codemirror_mode": {
    "name": "ipython",
    "version": 3
   },
   "file_extension": ".py",
   "mimetype": "text/x-python",
   "name": "python",
   "nbconvert_exporter": "python",
   "pygments_lexer": "ipython3",
   "version": "3.9.5"
  },
  "orig_nbformat": 4
 },
 "nbformat": 4,
 "nbformat_minor": 2
}
