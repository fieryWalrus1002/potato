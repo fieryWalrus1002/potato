{
 "cells": [
  {
   "cell_type": "code",
   "execution_count": 1,
   "metadata": {},
   "outputs": [],
   "source": [
    "\n",
    "%load_ext blackcellmagic\n",
    "from pathlib import Path\n",
    "\n",
    "import matplotlib.pyplot as plt\n",
    "import numpy as np\n",
    "import pandas as pd\n",
    "import torch\n",
    "from sklearn import preprocessing\n",
    "from sklearn.ensemble import RandomForestRegressor\n",
    "from sklearn.linear_model import Ridge\n",
    "from sklearn.metrics import r2_score\n",
    "from sklearn.model_selection import (RepeatedKFold, cross_val_score,\n",
    "                                     train_test_split)\n",
    "\n",
    "from src.dataloader import DataLoader\n"
   ]
  },
  {
   "cell_type": "code",
   "execution_count": 17,
   "metadata": {},
   "outputs": [],
   "source": [
    "#\n",
    "RANDOM_STATE = 17\n",
    "\n",
    "# set output to just 2 sig digits\n",
    "np.set_printoptions(precision=2)\n",
    "\n",
    "# Import the dataframe from our dataloader class\n",
    "df = DataLoader().get_data_frame(date=\"Jun22_2020\")\n",
    "\n",
    "feature_names = list(df.columns)[1:]\n",
    "\n",
    "# feature selection by SelectKBest, Pearson's corr coeff\n",
    "sel_features = ['blue-blue-444', 'blue-red', 'green-red', 'green-red-650', 'green-531-red',\n",
    " 'green-531-red-650', 'nir-red-edge', 'nir-red-edge-705', 'nir-red-edge-740',\n",
    " 'red-edge-red-edge-705']\n",
    "\n",
    "# X and y\n",
    "# feat_idx = df.columns[df.columns.isin(sel_features)].values\n",
    "# print(X.shape)\n",
    "# X = df.loc[:, sel_features].values\n",
    "X = df.iloc[:, 1:].values\n",
    "y = df['yield'].values\n",
    "\n",
    "# train test Split (0.7/0.3)\n",
    "X_train, X_test, y_train, y_test = train_test_split(X, y, train_size=0.7, random_state=RANDOM_STATE, shuffle=True)\n",
    "\n",
    "# test validate split (0.3 split into 0.15/0.15)\n",
    "X_test, X_val, y_test, y_val = train_test_split(X_test, y_test, train_size=0.5, random_state=RANDOM_STATE, shuffle=True)\n",
    "# Important Note! Feature selection should be done AFTER test/train split, to avoid information leakage\n"
   ]
  },
  {
   "cell_type": "markdown",
   "metadata": {},
   "source": [
    "# Random forest regressor\n",
    "\n",
    "[sklearn.ensemble.RandomForestRegressor](https://scikit-learn.org/stable/modules/generated/sklearn.ensemble.RandomForestRegressor.html)\n",
    "A random forest regressor.\n",
    "\n",
    "A random forest is a meta estimator that fits a number of classifying decision trees on various sub-samples of the dataset and uses averaging to improve the predictive accuracy and control over-fitting. The sub-sample size is controlled with the max_samples parameter if bootstrap=True (default), otherwise the whole dataset is used to build each tree."
   ]
  },
  {
   "cell_type": "code",
   "execution_count": 20,
   "metadata": {},
   "outputs": [
    {
     "data": {
      "text/plain": [
       "RandomForestRegressor(max_samples=0.5, n_estimators=10000, random_state=17)"
      ]
     },
     "execution_count": 20,
     "metadata": {},
     "output_type": "execute_result"
    }
   ],
   "source": [
    "reg = RandomForestRegressor(criterion=\"squared_error\",n_estimators=10000, random_state=RANDOM_STATE, bootstrap=True, oob_score=False, max_samples=0.5)\n",
    "reg.fit(X_train, y_train)\n",
    "\n"
   ]
  },
  {
   "cell_type": "code",
   "execution_count": 21,
   "metadata": {},
   "outputs": [
    {
     "data": {
      "image/png": "[encoded data removed]",
      "text/plain": [
       "<Figure size 432x576 with 2 Axes>"
      ]
     },
     "metadata": {
      "needs_background": "light"
     },
     "output_type": "display_data"
    }
   ],
   "source": [
    "# test predictions\n",
    "y_pred_t = reg.predict(X_test)\n",
    "\n",
    "# validation predictions\n",
    "y_pred_v = reg.predict(X_val)\n",
    "\n",
    "\n",
    "# Display the images as one figure.\n",
    "fig, axs = plt.subplots(1, 2)\n",
    "\n",
    "axs[0].scatter(y_test, y_pred_t)\n",
    "axs[0].annotate(\n",
    "    \"a\",\n",
    "    xy=(0.05, 0.98),\n",
    "    xycoords=\"axes fraction\",\n",
    "    fontsize=16,\n",
    "    horizontalalignment=\"left\",\n",
    "    verticalalignment=\"top\",\n",
    ")\n",
    "axs[0].annotate(\n",
    "    f\"$r^2$ = {round(r2_score(y_test, y_pred_t), 2)}\",\n",
    "    xy=(1, 1),\n",
    "    xycoords=\"axes fraction\",\n",
    "    fontsize=8,\n",
    "    horizontalalignment=\"right\",\n",
    "    verticalalignment=\"top\",\n",
    ")\n",
    "\n",
    "\n",
    "axs[1].scatter(y_val, y_pred_v)\n",
    "axs[1].annotate(\n",
    "    f\"$r^2$ = {round(r2_score(y_val, y_pred_v), 2)}\",\n",
    "    xy=(1, 1),\n",
    "    xycoords=\"axes fraction\",\n",
    "    fontsize=8,\n",
    "    horizontalalignment=\"right\",\n",
    "    verticalalignment=\"top\",\n",
    ")\n",
    "\n",
    "fig.tight_layout()\n",
    "fig.set_figheight(8)"
   ]
  }
 ],
 "metadata": {
  "interpreter": {
   "hash": "97cbd93eb894fbab1a265c53fc61c23367c51d32364bda84dce3a4fe8ebbc10f"
  },
  "kernelspec": {
   "display_name": "Python 3.9.5 64-bit ('image-analysis': conda)",
   "name": "python3"
  },
  "language_info": {
   "codemirror_mode": {
    "name": "ipython",
    "version": 3
   },
   "file_extension": ".py",
   "mimetype": "text/x-python",
   "name": "python",
   "nbconvert_exporter": "python",
   "pygments_lexer": "ipython3",
   "version": "3.9.5"
  },
  "orig_nbformat": 4
 },
 "nbformat": 4,
 "nbformat_minor": 2
}
