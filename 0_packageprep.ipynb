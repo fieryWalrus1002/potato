{
 "cells": [
  {
   "cell_type": "markdown",
   "metadata": {},
   "source": [
    "# install packages\n",
    "C:\\Users\\magnus.wood\\Miniconda3\\Scripts\\activate\n",
    "conda install -c condaforge ipykernel numpy matplotlib pandas seaborn scipy black blackcellmagic pyyaml ipywidgets\n",
    "conda install pytorch torchvision torchaudio cudatoolkit=10.2 -c pytorch\n",
    "pip install ipywidgets\n",
    "pip install opencv-python\n",
    "\n",
    "You can install packages as needed in pip if not using conda:\n",
    "!{sys.executable} -m pip install package-name"
   ]
  }
 ],
 "metadata": {
  "interpreter": {
   "hash": "97cbd93eb894fbab1a265c53fc61c23367c51d32364bda84dce3a4fe8ebbc10f"
  },
  "kernelspec": {
   "display_name": "Python 3.9.5 64-bit ('image-analysis': conda)",
   "name": "python3"
  },
  "language_info": {
   "name": "python",
   "version": "3.9.5"
  },
  "orig_nbformat": 4
 },
 "nbformat": 4,
 "nbformat_minor": 2
}
