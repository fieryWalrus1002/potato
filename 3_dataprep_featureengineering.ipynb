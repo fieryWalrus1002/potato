{
 "cells": [
  {
   "cell_type": "code",
   "execution_count": 1,
   "metadata": {},
   "outputs": [],
   "source": [
    "import torch\n",
    "import pandas as pd\n",
    "import matplotlib.pyplot as plt\n",
    "from pathlib import Path\n",
    "from sklearn import preprocessing\n",
    "from sklearn.model_selection import train_test_split\n"
   ]
  },
  {
   "cell_type": "code",
   "execution_count": 2,
   "metadata": {},
   "outputs": [
    {
     "name": "stdout",
     "output_type": "stream",
     "text": [
      "        yield  blue-blue-444  blue-green  blue-green-531\n",
      "0  641.218827       0.013329   -0.419273       -0.445662\n",
      "1  697.979880      -0.001042   -0.459447       -0.476955\n",
      "2  709.891479       0.008540   -0.433216       -0.455423\n",
      "3  674.191672       0.013697   -0.402593       -0.427173\n",
      "4  680.430664       0.003195   -0.457388       -0.475037\n"
     ]
    }
   ],
   "source": [
    "######################################## Data import #########################################\n",
    "\n",
    "# data path\n",
    "df_path = (\n",
    "    Path.cwd()\n",
    "    / \"data\"\n",
    "    / \"processed\"\n",
    "    / \"Jun22_2020\"\n",
    "    / \"Jun22_2020_df.csv\"\n",
    ")\n",
    "\n",
    "df = pd.read_csv(df_path).iloc[:, 2:]\n",
    "print(df.head().iloc[:,0:4])\n"
   ]
  },
  {
   "cell_type": "code",
   "execution_count": 3,
   "metadata": {},
   "outputs": [],
   "source": [
    "# Test/Train/Val Split\n",
    "\n",
    "# X and y\n",
    "X = df.iloc[:, 1:].values\n",
    "y = df['yield'].values\n",
    "\n",
    "# train test Split (0.7/0.3)\n",
    "X_train, X_test, y_train, y_test = train_test_split(X, y, train_size=0.7, random_state=26, shuffle=True)\n",
    "\n",
    "# test validate split (0.3 split into 0.15/0.15)\n",
    "X_test, X_val, y_test, y_val = train_test_split(X_test, y_test, train_size=0.5, random_state=26, shuffle=True)\n"
   ]
  },
  {
   "cell_type": "markdown",
   "metadata": {},
   "source": [
    "# Standard scaling features\n",
    "Standardization of features according to: x'=(x-µ)/ σ. Sets mean to 0 and unit variance to 1. <br>\n",
    "\n",
    "Z-score Feature Scaling: https://developers.google.com/machine-learning/data-prep/transform/normalization\n",
    "\n",
    "Greek symbols in ascii are produced like so:<br>\n",
    "µ = Alt + 230 <br>\n",
    "σ = Alt + 229 <br>\n",
    "Φ = Alt + 232 <br>\n",
    "<br>\n",
    "https://www.keynotesupport.com/internet/special-characters-greek-letters-symbols.shtml"
   ]
  },
  {
   "cell_type": "code",
   "execution_count": null,
   "metadata": {},
   "outputs": [],
   "source": [
    "#  train the scaler ONLY on the training set. Then use it to scale train/test/val\n",
    "scaler = preprocessing.StandardScaler()\n",
    "X_train = scaler.fit_transform(X_train) # trains the scaler using fit on X_train, then transforms X_train as well\n",
    "X_test = scaler.transform(X_test) # no fit, transforms using data from fit() stored in the scaler\n",
    "X_val = scaler.transform(X_val)\n",
    "\n",
    "# convert variables to PyTorch tensor\n",
    "X_train = torch.tensor(X_train, dtype=torch.float32)\n",
    "X_test = torch.tensor(X_test, dtype=torch.float32)\n",
    "X_val = torch.tensor(X_val, dtype=torch.float32)\n",
    "y_train = torch.tensor(y_train, dtype=torch.float32)\n",
    "y_test = torch.tensor(y_test, dtype=torch.float32)\n",
    "y_val = torch.tensor(y_val, dtype=torch.float32)\n",
    "print(X_train.shape)"
   ]
  }
 ],
 "metadata": {
  "interpreter": {
   "hash": "97cbd93eb894fbab1a265c53fc61c23367c51d32364bda84dce3a4fe8ebbc10f"
  },
  "kernelspec": {
   "display_name": "Python 3.9.5 64-bit ('image-analysis': conda)",
   "name": "python3"
  },
  "language_info": {
   "codemirror_mode": {
    "name": "ipython",
    "version": 3
   },
   "file_extension": ".py",
   "mimetype": "text/x-python",
   "name": "python",
   "nbconvert_exporter": "python",
   "pygments_lexer": "ipython3",
   "version": "3.9.5"
  },
  "orig_nbformat": 4
 },
 "nbformat": 4,
 "nbformat_minor": 2
}
