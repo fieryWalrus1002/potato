{
 "cells": [
  {
   "cell_type": "code",
   "execution_count": 2,
   "metadata": {},
   "outputs": [],
   "source": [
    "from pathlib import Path\n",
    "\n",
    "import matplotlib.pyplot as plt\n",
    "import pandas as pd\n",
    "import torch\n",
    "from sklearn import preprocessing\n",
    "from sklearn.feature_selection import SelectKBest, r_regression\n",
    "from sklearn.model_selection import train_test_split\n",
    "import numpy as np\n",
    "\n",
    "from src.dataloader import DataLoader\n"
   ]
  },
  {
   "cell_type": "code",
   "execution_count": 4,
   "metadata": {},
   "outputs": [],
   "source": [
    "# set output to just 2 sig digits\n",
    "np.set_printoptions(precision=2)\n",
    "\n",
    "# Import the dataframe from our dataloader class\n",
    "df = DataLoader().get_data_frame(date=\"Jun22_2020\")\n",
    "\n",
    "feature_names = list(df.columns)[1:]\n",
    "\n",
    "# X and y\n",
    "X = df.iloc[:, 1:].values\n",
    "y = df['yield'].values\n",
    "\n",
    "# train test Split (0.7/0.3)\n",
    "X_train, X_test, y_train, y_test = train_test_split(X, y, train_size=0.7, random_state=26, shuffle=True)\n",
    "\n",
    "# test validate split (0.3 split into 0.15/0.15)\n",
    "X_test, X_val, y_test, y_val = train_test_split(X_test, y_test, train_size=0.5, random_state=26, shuffle=True)\n",
    "# Important Note! Feature selection should be done AFTER test/train split, to avoid information leakage\n"
   ]
  },
  {
   "cell_type": "markdown",
   "metadata": {},
   "source": [
    "# Standard scaling features\n",
    "Standardization of features according to: x'=(x-µ)/ σ. Sets mean to 0 and unit variance to 1. <br>\n",
    "\n",
    "Z-score Feature Scaling: https://developers.google.com/machine-learning/data-prep/transform/normalization\n",
    "\n",
    "Greek symbols in ascii are produced like so:<br>\n",
    "µ = Alt + 230 <br>\n",
    "σ = Alt + 229 <br>\n",
    "Φ = Alt + 232 <br>\n",
    "<br>\n",
    "https://www.keynotesupport.com/internet/special-characters-greek-letters-symbols.shtml"
   ]
  },
  {
   "cell_type": "code",
   "execution_count": 5,
   "metadata": {},
   "outputs": [],
   "source": [
    "#  train the scaler ONLY on the training set. Then use it to scale train/test/val\n",
    "scaler = preprocessing.StandardScaler()\n",
    "X_train = scaler.fit_transform(X_train) # trains the scaler using fit on X_train, then transforms X_train as well\n",
    "X_test = scaler.transform(X_test) # no fit, transforms using data from fit() stored in the scaler\n",
    "X_val = scaler.transform(X_val)\n"
   ]
  },
  {
   "cell_type": "markdown",
   "metadata": {},
   "source": [
    "### Univariate Selection, SelectKBest\n",
    "[sklearn.feature_selection.SelectKBest](https://scikit-learn.org/stable/modules/generated/sklearn.feature_selection.SelectKBest.html#sklearn.feature_selection.SelectKBest) will select features according to the k highest scores. <br><br>\n",
    "\n",
    "<br>\n",
    "[sklearn.feature_selection.r_regression](https://scikit-learn.org/stable/modules/generated/sklearn.feature_selection.r_regression.html#sklearn.feature_selection.r_regression) will compute Pearson's correlation coefficient for each feature and the target. This is a scoring function to be fed into a feature selection procedure, and does not stand on its own. Use with SelectKBest or similar method. The cross correlation between each regressor and the target is computed as ((X[:, i] - mean(X[:, i])) * (y - mean_y)) / (std(X[:, i]) * std(y))."
   ]
  },
  {
   "cell_type": "code",
   "execution_count": 6,
   "metadata": {},
   "outputs": [
    {
     "name": "stdout",
     "output_type": "stream",
     "text": [
      "SelectKBest, using an Pearson's correlation coefficient scoring function:\n",
      "correlation coefficients:\n",
      " [ 0.11 -0.1  -0.11 -0.04  0.06  0.01 -0.05 -0.11 -0.02 -0.15 -0.18 -0.06\n",
      "  0.03 -0.01 -0.08 -0.19 -0.04  0.01 -0.07  0.07  0.06 -0.05 -0.01 -0.04\n",
      " -0.06  0.08  0.06 -0.04 -0.01 -0.03  0.03  0.03  0.1   0.06  0.3  -0.15\n",
      " -0.04 -0.07 -0.02 -0.04 -0.06 -0.02  0.04 -0.05 -0.04]\n",
      "best 4 features:\n",
      " ['blue-blue-444' 'green-531-red' 'nir-red-edge' 'nir-red-edge-740']\n"
     ]
    }
   ],
   "source": [
    "print(\"SelectKBest, using an Pearson's correlation coefficient scoring function:\")\n",
    "\n",
    "test = SelectKBest(score_func=r_regression, k=4)\n",
    "fit = test.fit(X_train, y_train)\n",
    "features = fit.transform(X_train)\n",
    "\n",
    "print(\"correlation coefficients:\\n\",fit.scores_)\n",
    "\n",
    "print(\"best 4 features:\\n\",test.get_feature_names_out(feature_names))"
   ]
  },
  {
   "cell_type": "code",
   "execution_count": null,
   "metadata": {},
   "outputs": [],
   "source": [
    "\n",
    "# convert variables to PyTorch tensor\n",
    "X_train = torch.tensor(X_train, dtype=torch.float32)\n",
    "X_test = torch.tensor(X_test, dtype=torch.float32)\n",
    "X_val = torch.tensor(X_val, dtype=torch.float32)\n",
    "y_train = torch.tensor(y_train, dtype=torch.float32)\n",
    "y_test = torch.tensor(y_test, dtype=torch.float32)\n",
    "y_val = torch.tensor(y_val, dtype=torch.float32)\n",
    "print(X_train.shape)"
   ]
  }
 ],
 "metadata": {
  "interpreter": {
   "hash": "97cbd93eb894fbab1a265c53fc61c23367c51d32364bda84dce3a4fe8ebbc10f"
  },
  "kernelspec": {
   "display_name": "Python 3.9.5 64-bit ('image-analysis': conda)",
   "name": "python3"
  },
  "language_info": {
   "codemirror_mode": {
    "name": "ipython",
    "version": 3
   },
   "file_extension": ".py",
   "mimetype": "text/x-python",
   "name": "python",
   "nbconvert_exporter": "python",
   "pygments_lexer": "ipython3",
   "version": "3.9.5"
  },
  "orig_nbformat": 4
 },
 "nbformat": 4,
 "nbformat_minor": 2
}
