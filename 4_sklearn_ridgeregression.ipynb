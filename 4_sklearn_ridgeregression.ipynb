{
 "cells": [
  {
   "cell_type": "code",
   "execution_count": 50,
   "metadata": {},
   "outputs": [],
   "source": [
    "%load_ext blackcellmagic\n",
    "import torch\n",
    "import pandas as pd\n",
    "import matplotlib.pyplot as plt\n",
    "from pathlib import Path\n",
    "from sklearn import preprocessing\n",
    "from sklearn import linear_model\n",
    "from sklearn.model_selection import train_test_split\n",
    "from sklearn.metrics import r2_score\n",
    "\n"
   ]
  },
  {
   "cell_type": "code",
   "execution_count": null,
   "metadata": {},
   "outputs": [],
   "source": [
    "# ################## this is from lab4 homework, for exmaple. I did some work to play with model validation\n",
    "# # import data \n",
    "# df_base = pd.read_csv(\"101821_lab4_FLIRcalibration.csv\", skiprows=3)\n",
    "# df_base = df_base[[\"direction\", \"temp_C\", \"cycle_1\", \"cycle_2\"]]\n",
    "# df_base = df_base.rename(columns={'cycle_1': '1', 'cycle_2':'2'})\n",
    "\n",
    "# df_base = pd.melt(df_base, id_vars = ['temp_C', 'direction'], value_vars=list(df_base.columns)[2:],\n",
    "# var_name=\"cycle\", value_name='reading')\n",
    "\n",
    "# print(df_base.shape)\n",
    "# print(df_base.head())\n",
    "\n",
    "# #### Ridge regression model\n",
    "# from sklearn.model_selection import cross_val_score\n",
    "# from sklearn.model_selection import RepeatedKFold\n",
    "# from sklearn.linear_model import Ridge\n",
    "\n",
    "# # pandas to a numpy array\n",
    "# data = df_base.values\n",
    "\n",
    "# # reshape, add a dimension so it works in the model\n",
    "# X, y = data[:, 0].reshape(-1, 1), data[:,-1].reshape(-1, 1)\n",
    "\n",
    "# # define Ridge regression linear model\n",
    "# lm = Ridge(alpha=1.0)\n",
    "\n",
    "# # define model evaluation method\n",
    "# cv = RepeatedKFold(n_splits=10, n_repeats=3, random_state=1)\n",
    "\n",
    "# #evaluate model\n",
    "# scores = np.absolute(cross_val_score(lm, X, y, scoring='neg_mean_absolute_error', cv=cv, n_jobs=1))\n",
    "# print(f\"Mean MAE: {np.mean(scores)} ({np.std(scores)})\")\n",
    "\n",
    "# # fit model\n",
    "# lm.fit(X, y)\n",
    "\n",
    "# # predictions\n",
    "# y_pred = lm.predict(X)\n",
    "# print(f\"coeff: {lm.coef_}, intercept: {lm.intercept_}\")\n",
    "\n",
    "# # add to dataframe\n",
    "# best_fit = pd.DataFrame({\"temp_C\":X.flatten(), \"best_fit\": y_pred.flatten()})\n",
    "\n",
    "\n",
    "# # join column from best_fit into df\n",
    "# df = df_base\n",
    "# df[\"best_fit\"] = best_fit.best_fit\n",
    "# print(f\"df_base + base_fit = {df.shape}\\n{df.head()}\")\n",
    "\n",
    "# # create deviation\n",
    "# # calculate deviation by subtracting the line value from the reading values for ALL data\n",
    "# df[\"deviation\"] = df.reading - df.best_fit\n",
    "# #dev_df = create_dev_df(df)\n",
    "# print(df.head())\n"
   ]
  },
  {
   "cell_type": "code",
   "execution_count": null,
   "metadata": {},
   "outputs": [],
   "source": [
    "\n",
    "# create the model, sklearn.linear_model, Ridge Regression\n",
    "# imposes a penalty on size of coefficients, improvement over Ordinary Least Squares\n",
    "reg = linear_model.Ridge(alpha=0.5)\n",
    "reg.fit(X_train, y_train)\n",
    "\n"
   ]
  },
  {
   "cell_type": "code",
   "execution_count": 51,
   "metadata": {},
   "outputs": [
    {
     "name": "stdout",
     "output_type": "stream",
     "text": [
      "        yield  blue-blue-444  blue-green  blue-green-531\n",
      "0  641.218827       0.013329   -0.419273       -0.445662\n",
      "1  697.979880      -0.001042   -0.459447       -0.476955\n",
      "2  709.891479       0.008540   -0.433216       -0.455423\n",
      "3  674.191672       0.013697   -0.402593       -0.427173\n",
      "4  680.430664       0.003195   -0.457388       -0.475037\n"
     ]
    }
   ],
   "source": [
    "######################################## Data import #########################################\n",
    "\n",
    "# data path\n",
    "df_path = (\n",
    "    Path.cwd()\n",
    "    / \"data\"\n",
    "    / \"processed\"\n",
    "    / \"Jun22_2020\"\n",
    "    / \"Jun22_2020_df.csv\"\n",
    ")\n",
    "\n",
    "df = pd.read_csv(df_path).iloc[:, 2:]\n",
    "print(df.head().iloc[:,0:4])\n"
   ]
  },
  {
   "cell_type": "code",
   "execution_count": 52,
   "metadata": {},
   "outputs": [],
   "source": [
    "# Test/Train/Val Split\n",
    "\n",
    "# X and y\n",
    "X = df.iloc[:, 1:].values\n",
    "y = df['yield'].values\n",
    "\n",
    "# train test Split (0.7/0.3)\n",
    "X_train, X_test, y_train, y_test = train_test_split(X, y, train_size=0.7, random_state=26, shuffle=True)\n",
    "\n",
    "# test validate split (0.3 split into 0.15/0.15)\n",
    "X_test, X_val, y_test, y_val = train_test_split(X_test, y_test, train_size=0.5, random_state=26, shuffle=True)\n"
   ]
  },
  {
   "cell_type": "markdown",
   "metadata": {},
   "source": [
    "# Standard scaling features\n",
    "Standardization of features according to: x'=(x-µ)/ σ. Sets mean to 0 and unit variance to 1. <br>\n",
    "\n",
    "Z-score Feature Scaling: https://developers.google.com/machine-learning/data-prep/transform/normalization\n",
    "\n",
    "Greek symbols in ascii are produced like so:<br>\n",
    "µ = Alt + 230 <br>\n",
    "σ = Alt + 229 <br>\n",
    "Φ = Alt + 232 <br>\n",
    "<br>\n",
    "https://www.keynotesupport.com/internet/special-characters-greek-letters-symbols.shtml"
   ]
  },
  {
   "cell_type": "code",
   "execution_count": 53,
   "metadata": {},
   "outputs": [
    {
     "name": "stdout",
     "output_type": "stream",
     "text": [
      "torch.Size([40, 45])\n"
     ]
    }
   ],
   "source": [
    "#  train the scaler ONLY on the training set. Then use it to scale train/test/val\n",
    "scaler = preprocessing.StandardScaler()\n",
    "X_train = scaler.fit_transform(X_train) # trains the scaler using fit on X_train, then transforms X_train as well\n",
    "X_test = scaler.transform(X_test) # no fit, transforms using data from fit() stored in the scaler\n",
    "X_val = scaler.transform(X_val)\n",
    "\n",
    "# convert variables to PyTorch tensor\n",
    "X_train = torch.tensor(X_train, dtype=torch.float32)\n",
    "X_test = torch.tensor(X_test, dtype=torch.float32)\n",
    "X_val = torch.tensor(X_val, dtype=torch.float32)\n",
    "y_train = torch.tensor(y_train, dtype=torch.float32)\n",
    "y_test = torch.tensor(y_test, dtype=torch.float32)\n",
    "y_val = torch.tensor(y_val, dtype=torch.float32)\n",
    "print(X_train.shape)"
   ]
  },
  {
   "cell_type": "code",
   "execution_count": 55,
   "metadata": {},
   "outputs": [
    {
     "data": {
      "text/plain": [
       "Ridge(alpha=0.5)"
      ]
     },
     "execution_count": 55,
     "metadata": {},
     "output_type": "execute_result"
    }
   ],
   "source": [
    "# create the model, sklearn.linear_model, Ridge Regression\n",
    "# imposes a penalty on size of coefficients, improvement over Ordinary Least Squares\n",
    "reg = linear_model.Ridge(alpha=0.5)\n",
    "reg.fit(X_train, y_train)"
   ]
  },
  {
   "cell_type": "code",
   "execution_count": 60,
   "metadata": {},
   "outputs": [
    {
     "data": {
      "image/png": "[encoded data removed]",
      "text/plain": [
       "<Figure size 432x576 with 2 Axes>"
      ]
     },
     "metadata": {
      "needs_background": "light"
     },
     "output_type": "display_data"
    }
   ],
   "source": [
    "# test predictions\n",
    "y_pred_t = reg.predict(X_test)\n",
    "r2 = r2_score(y_test, y_pred_t)\n",
    "\n",
    "# validation predictions\n",
    "y_pred_v = reg.predict(X_val)\n",
    "r2 = r2_score(y_val, y_pred_v)\n",
    "\n",
    "# Display the images as one figure.\n",
    "fig, axs = plt.subplots(1, 2)\n",
    "\n",
    "axs[0].scatter(y_test, y_pred_t)\n",
    "axs[0].annotate(\n",
    "    \"a\",\n",
    "    xy=(0.05, 0.98),\n",
    "    xycoords=\"axes fraction\",\n",
    "    fontsize=16,\n",
    "    horizontalalignment=\"left\",\n",
    "    verticalalignment=\"top\",\n",
    ")\n",
    "axs[0].annotate(\n",
    "    f\"$r^2$ = {round(r2_score(y_test, y_pred_t), 2)}\",\n",
    "    xy=(1, 1),\n",
    "    xycoords=\"axes fraction\",\n",
    "    fontsize=8,\n",
    "    horizontalalignment=\"right\",\n",
    "    verticalalignment=\"top\",\n",
    ")\n",
    "\n",
    "\n",
    "axs[1].scatter(y_val, y_pred_v)\n",
    "axs[1].annotate(\"r^2 = {:.3f}\".format(r2_score(y_val, y_pred_v)), (750, 990))\n",
    "\n",
    "fig.tight_layout()\n",
    "fig.set_figheight(8)"
   ]
  }
 ],
 "metadata": {
  "interpreter": {
   "hash": "97cbd93eb894fbab1a265c53fc61c23367c51d32364bda84dce3a4fe8ebbc10f"
  },
  "kernelspec": {
   "display_name": "Python 3.9.5 64-bit ('image-analysis': conda)",
   "name": "python3"
  },
  "language_info": {
   "codemirror_mode": {
    "name": "ipython",
    "version": 3
   },
   "file_extension": ".py",
   "mimetype": "text/x-python",
   "name": "python",
   "nbconvert_exporter": "python",
   "pygments_lexer": "ipython3",
   "version": "3.9.5"
  },
  "orig_nbformat": 4
 },
 "nbformat": 4,
 "nbformat_minor": 2
}
