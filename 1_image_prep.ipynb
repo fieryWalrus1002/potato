{
 "cells": [
  {
   "cell_type": "code",
   "execution_count": null,
   "source": [
    "### install packages as needed\r\n",
    "\r\n",
    "# Install a pip package in the current Jupyter kernel\r\n",
    "# !{sys.executable} -m pip install ipykernel\r\n",
    "# !{sys.executable} -m pip install numpy\r\n",
    "# !{sys.executable} -m pip install matplotlib\r\n",
    "# !{sys.executable} -m pip install pandas\r\n",
    "# !{sys.executable} -m pip install seaborn\r\n",
    "# !{sys.executable} -m pip install scipy\r\n",
    "# !{sys.executable} -m pip install torch==1.9.1+cu102 torchvision==0.10.1+cu102 torchaudio===0.9.1 -f https://download.pytorch.org/whl/torch_stable.html\r\n",
    "# !{sys.executable} -m pip install pyyaml\r\n",
    "# !{sys.executable} -m pip install opencv-python\r\n",
    "%load_ext blackcellmagic\r\n"
   ],
   "outputs": [],
   "metadata": {}
  },
  {
   "cell_type": "markdown",
   "source": [],
   "metadata": {}
  },
  {
   "cell_type": "code",
   "execution_count": 11,
   "source": [
    "import numpy as np\r\n",
    "import matplotlib.pyplot as plt\r\n",
    "import pandas as pd\r\n",
    "import os\r\n",
    "from pathlib import Path\r\n",
    "import glob\r\n",
    "import yaml\r\n",
    "from datetime import date\r\n",
    "from scipy import ndimage\r\n",
    "from PIL import Image\r\n",
    "import matplotlib.pyplot as plt\r\n",
    "import cv2 as cv\r\n",
    "import data\r\n",
    "\r\n",
    "# import pingouin as pg # for check homoskedacity (inequal variances)\r\n",
    "\r\n",
    "params = {\r\n",
    "    \"project_stub\": \"Potato_Fertilizer_Othello\",\r\n",
    "    \"data_acquisition_date\": \"Jun22_2020\",\r\n",
    "    \"NDVI_threshold\": 0.5,\r\n",
    "    \"data_import_path\": Path.cwd() / \"data\" / \"raw\" / \"Jun22_2020\",\r\n",
    "    \"data_export_path\": Path.cwd() / \"data\" / \"processed\" / \"Jun22_2020\",\r\n",
    "    \"plot_export_path\": Path.cwd() / \"image_export\" / \"Jun22_2020\",\r\n",
    "    \"ground_truth_path\": Path.cwd() / \"data\" / \"raw\" /'ground_truth.csv'\r\n",
    "}\r\n",
    "\r\n",
    "ground_truth = pd.read_csv(params[\"ground_truth_path\"])\r\n",
    "\r\n",
    "# export the params file for reference\r\n",
    "with open(Path.cwd() / \"config\" / (str(date.today()) + \"_\" + params[\"data_acquisition_date\"] + \"_\"  + \"params.yaml\"), \"w\") as file:\r\n",
    "    documents = yaml.dump(params, file)"
   ],
   "outputs": [],
   "metadata": {}
  },
  {
   "cell_type": "code",
   "execution_count": 15,
   "source": [
    "### useful functions\r\n",
    "def rotate_and_crop(img, rot_angle, y_limits, x_limits):\r\n",
    "    \"\"\"takes an image and applies a rotation, then returns a subset of that image\"\"\"\r\n",
    "    return ndimage.rotate(img, angle=rot_angle)[\r\n",
    "        y_limits[0] : y_limits[1], x_limits[0] : x_limits[1]\r\n",
    "    ]\r\n",
    "\r\n",
    "\r\n",
    "def save_img(array, plot, index):\r\n",
    "    \"\"\"takes np.array and converts to a PIL.Image, then saves it into the data_export_path\"\"\"\r\n",
    "    im = Image.fromarray(array.astype(np.uint8))\r\n",
    "    im.save(\r\n",
    "        params[\"data_export_path\"] + \"plot_\" + str(plot) + \"_index_\" + index + \".png\"\r\n",
    "    )\r\n",
    "\r\n",
    "def load_img(path):\r\n",
    "    \"\"\"open image file, replace all '-10000' transparent values with zero, and return\"\"\"\r\n",
    "    image = cv.imread(path, cv.IMREAD_UNCHANGED)\r\n",
    "\r\n",
    "    out_image = np.where(image < 0, 0, image)\r\n",
    "    \r\n",
    "    # out_image = np.array(image * 255., dtype=np.uint8)\r\n",
    "    print(f\"img min, max = {np.min(image), np.max(image)}, out min, max = {np.min(out_image), np.max(out_image)}\")\r\n",
    "\r\n",
    "    return out_image\r\n",
    "\r\n",
    "def show_img(img):\r\n",
    "    ''' plot array as img '''\r\n",
    "    plt.figure(figsize = (8,30))\r\n",
    "    plt.imshow(img, cmap=\"viridis\")"
   ],
   "outputs": [],
   "metadata": {}
  },
  {
   "cell_type": "code",
   "execution_count": 16,
   "source": [
    "### load images\r\n",
    "\r\n",
    "raw_img_paths = sorted(glob.glob(os.path.join(params[\"data_import_path\"], \"*.tif\")))\r\n",
    "channel_order = [\"blue-444\", \"blue\", \"green-531\", \"green\", \"nir\", \"red edge-705\", \"red edge-740\", \"red edge\", \"red-650\", \"red\"]\r\n",
    "field_image = np.stack([load_img(img_path) for img_path in raw_img_paths])\r\n",
    "\r\n",
    "# field_image = np.array(image_list)\r\n",
    "print(f\"image_list shape:{field_image.shape}, type(field_image):{type(field_image)}\")\r\n"
   ],
   "outputs": [
    {
     "output_type": "stream",
     "name": "stdout",
     "text": [
      "img min, max = (-10000.0, 0.3787283), out min, max = (0.0, 0.3787283)\n",
      "img min, max = (-10000.0, 0.40292442), out min, max = (0.0, 0.40292442)\n",
      "img min, max = (-10000.0, 0.47094285), out min, max = (0.0, 0.47094285)\n",
      "img min, max = (-10000.0, 0.37267798), out min, max = (0.0, 0.37267798)\n",
      "img min, max = (-10000.0, 0.97884405), out min, max = (0.0, 0.97884405)\n",
      "img min, max = (-10000.0, 0.64317596), out min, max = (0.0, 0.64317596)\n",
      "img min, max = (-10000.0, 0.93435293), out min, max = (0.0, 0.93435293)\n",
      "img min, max = (-10000.0, 0.6702947), out min, max = (0.0, 0.6702947)\n",
      "img min, max = (-10000.0, 0.5182316), out min, max = (0.0, 0.5182316)\n",
      "img min, max = (-10000.0, 0.56610835), out min, max = (0.0, 0.56610835)\n",
      "image_list shape:(10, 11377, 4239), type(field_image):<class 'numpy.ndarray'>\n"
     ]
    }
   ],
   "metadata": {}
  },
  {
   "cell_type": "code",
   "execution_count": 18,
   "source": [
    "from __future__ import print_function\r\n",
    "from ipywidgets import interact, interactive, fixed, interact_manual\r\n",
    "import ipywidgets as widgets\r\n",
    "\r\n",
    "ipywidgets.Text('Hello')"
   ],
   "outputs": [],
   "metadata": {}
  }
 ],
 "metadata": {
  "orig_nbformat": 4,
  "language_info": {
   "name": "python",
   "version": "3.9.5",
   "mimetype": "text/x-python",
   "codemirror_mode": {
    "name": "ipython",
    "version": 3
   },
   "pygments_lexer": "ipython3",
   "nbconvert_exporter": "python",
   "file_extension": ".py"
  },
  "kernelspec": {
   "name": "python3",
   "display_name": "Python 3.9.5 64-bit ('venv': venv)"
  },
  "interpreter": {
   "hash": "fc55903db966bda7df7496dd7e05fd3ddf77c732b02fe898ce045d928e05cd45"
  }
 },
 "nbformat": 4,
 "nbformat_minor": 2
}