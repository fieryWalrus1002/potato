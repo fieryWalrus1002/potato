{
 "cells": [
  {
   "cell_type": "code",
   "execution_count": 11,
   "metadata": {},
   "outputs": [
    {
     "name": "stdout",
     "output_type": "stream",
     "text": [
      "The blackcellmagic extension is already loaded. To reload it, use:\n",
      "  %reload_ext blackcellmagic\n"
     ]
    }
   ],
   "source": [
    "%load_ext blackcellmagic\n",
    "%matplotlib inline\n",
    "import numpy as np\n",
    "import matplotlib.pyplot as plt\n",
    "import pandas as pd\n",
    "import os\n",
    "from pathlib import Path\n",
    "import glob\n",
    "import yaml\n",
    "from datetime import date\n",
    "from scipy import ndimage\n",
    "from PIL import Image\n",
    "import matplotlib.pyplot as plt\n",
    "import cv2 as cv\n",
    "import ipywidgets as widget\n",
    "from IPython.display import display"
   ]
  },
  {
   "cell_type": "code",
   "execution_count": 13,
   "metadata": {},
   "outputs": [
    {
     "name": "stdout",
     "output_type": "stream",
     "text": [
      "<class 'pathlib.WindowsPath'>\n",
      "C:data\\remote_sensing\\images\\potato\\Jun22_2020\n"
     ]
    }
   ],
   "source": [
    "METADATA = {\n",
    "    \"author\": \"Magnus Wood\",\n",
    "}\n",
    "\n",
    "print(type(Path(\"C:data/remote_sensing/images/potato/Jun22_2020\")))\n",
    "\n",
    "\n",
    "# define notebook parameters\n",
    "\n",
    "params = {\n",
    "    \"project_stub\": \"Potato_Fertilizer_Othello\",\n",
    "    \"image_format\": \"*.tif\",\n",
    "    \"data_acquisition_date\": \"Jun22_2020\",\n",
    "    \"NDVI_threshold\": 0.3,\n",
    "    \"raw_image_import_path\": Path(\"C:data/remote_sensing/images/potato/Jun22_2020\"),\n",
    "    \"data_import_path\": Path.cwd() / \"data\" / \"raw\" / \"Jun22_2020\",\n",
    "    \"data_export_path\": Path.cwd() / \"data\" / \"processed\" / \"Jun22_2020\",\n",
    "    \"plot_export_path\": Path.cwd() / \"image_export\" / \"Jun22_2020\",\n",
    "    \"ground_truth_path\": Path.cwd() / \"data\" / \"raw\" / \"ground_truth.csv\",\n",
    "}\n",
    "\n",
    "\n",
    "print(params[\"raw_image_import_path\"])\n",
    "# export the params file for reference\n",
    "with open(\n",
    "    Path.cwd()\n",
    "    / \"config\"\n",
    "    / (str(date.today()) + \"_\" + params[\"data_acquisition_date\"] + \"_\" + \"params.yaml\"),\n",
    "    \"w\",\n",
    ") as file:\n",
    "    documents = yaml.dump(params, file)\n",
    "\n",
    "# define camera wavelengths and file image labels in a dict\n",
    "# RedEdge-MX Dual Camera Imaging System bands\n",
    "# channel names: blue-444, blue, green-531, green, red-650, red, red-edge-705, red-edge, red-edge-740, nir\n",
    "rededge_mx_band_wl = {\n",
    "    \"blue-444\": 444,\n",
    "    \"blue\": 475,\n",
    "    \"green-531\": 531,\n",
    "    \"green\": 560,\n",
    "    \"red-650\": 650,\n",
    "    \"red\": 668,\n",
    "    \"red-edge-705\": 705,\n",
    "    \"red-edge\": 717,\n",
    "    \"red-edge-740\": 740,\n",
    "    \"nir\": 842,\n",
    "}"
   ]
  },
  {
   "cell_type": "markdown",
   "metadata": {},
   "source": [
    "# Define functions used in the rest of the notebook\n"
   ]
  },
  {
   "cell_type": "code",
   "execution_count": null,
   "metadata": {},
   "outputs": [],
   "source": [
    "### useful functions\n",
    "\n",
    "\n",
    "def save_idx_img(array, plot, index):\n",
    "    \"\"\"takes np.array and converts to a PIL.Image, then saves it into the data_export_path\"\"\"\n",
    "    im = Image.fromarray(array)\n",
    "    im.save(\n",
    "        params[\"data_export_path\"] + \"plot_\" + str(plot) + \"_index_\" + index + \".png\"\n",
    "    )\n",
    "\n",
    "\n",
    "def load_img(channel_name: str):\n",
    "    \"\"\"open image file, replace all '-10000' transparent values with zero, and return\"\"\"\n",
    "    image_path = glob.glob(os.path.join(params[\"data_import_path\"], f\"*{channel_name}.tif\"))[0]\n",
    "    print(f\"importing {image_path}...\")\n",
    "    image = cv.imread(image_path, cv.IMREAD_UNCHANGED)\n",
    "    \n",
    "\n",
    "    out_image = np.where(image < 0, 0.0, image) #gets rid of -10000 transparency\n",
    "\n",
    "    out_image = np.multiply(out_image, 255.0) # scales from 0.0-1.0 to 0.0-255.0\n",
    "\n",
    "    print(\n",
    "        f\"img min, max = {np.min(image), np.max(image)}, out min, max = {np.min(out_image), np.max(out_image)}\"\n",
    "    )\n",
    "\n",
    "    return out_image\n",
    "\n",
    "def crop_image(image: np.array, crop_percent: float):\n",
    "    h, w = image.shape\n",
    "    h0 = int(h * (1 - crop_percent))\n",
    "    h1 = int(h * crop_percent)\n",
    "    w0 = int(w * (1 - crop_percent))\n",
    "    w1 = int(w * crop_percent)\n",
    "    print(h0, h1, w0, w1)\n",
    "    return image[h0:h1, w0:w1]\n",
    "\n",
    "def show_image(image):\n",
    "    \"\"\" plot array as img \"\"\"\n",
    "    plt.figure(figsize=(8, 30))\n",
    "    plt.imshow(image, cmap=\"viridis\")\n",
    "\n",
    "\n",
    "def get_channel_names(path_list: list) -> list:\n",
    "    \"\"\" gets the channel name from the file path\"\"\"\n",
    "    return [os.path.split(path)[1].split(\"_\")[-1].split(\".\")[0] for path in path_list]\n",
    "\n",
    "\n",
    "def calc_spec_idx(band_a, band_b) -> np.array:\n",
    "    \"\"\" calculates spectral index from np.array in form:\n",
    "    (band_a - band_b) / (band_a + band_b), avoids divide by zero error \"\"\"\n",
    "    numer = np.subtract(band_a, band_b)\n",
    "    denom = np.add(band_a, band_b)\n",
    "    return np.divide(numer, denom, out=np.zeros_like(numer), where=(denom != 0))"
   ]
  },
  {
   "cell_type": "markdown",
   "metadata": {},
   "source": [
    "# Test threshold values and cropping"
   ]
  },
  {
   "cell_type": "code",
   "execution_count": null,
   "metadata": {},
   "outputs": [],
   "source": [
    "\n",
    "# check ndvi and produce mask\n",
    "red = load_img(\"red\")\n",
    "nir = load_img(\"nir\")\n",
    "\n",
    "ndvi = calc_spec_idx(band_a=nir, band_b=red)\n",
    "\n",
    "ndvi_th = np.mean(ndvi) * 0.8\n",
    "print(f\"mean ndvi: {np.mean(ndvi)}, ndvi_th: {ndvi_th}\")\n",
    "\n",
    "# use the NDVI image to create a mask\n",
    "ndvi_mask = np.where(ndvi > ndvi_th, 1, 0)\n",
    "\n",
    "# rotate the image\n",
    "ndvi_rotate = ndimage.rotate(ndvi, angle=182.4, reshape=True)\n",
    "\n",
    "# origin is upper left\n",
    "y_limits = [2400, 9800]\n",
    "x_limits = [1460, 3050]\n",
    "ndvi_cropped = ndvi_rotate[y_limits[0] : y_limits[1], x_limits[0] : x_limits[1]]\n",
    "\n",
    "# show them together\n",
    "fig, axs = plt.subplots(1, 4)\n",
    "axs[0].imshow(ndvi, cmap=\"gray\")\n",
    "axs[0].set_title(\"NDVI\")\n",
    "\n",
    "axs[1].imshow(ndvi_mask, cmap=\"gray\")\n",
    "axs[1].set_title(f\"mask (th={round(ndvi_th, 2)})\")\n",
    "\n",
    "axs[2].imshow(ndvi_rotate, cmap=\"gray\")\n",
    "axs[2].set_title(\"rotated\")\n",
    "\n",
    "axs[3].imshow(ndvi_cropped, cmap=\"viridis\")\n",
    "axs[3].set_title(\"cropped\")\n",
    "\n",
    "fig.tight_layout()\n"
   ]
  },
  {
   "cell_type": "markdown",
   "metadata": {},
   "source": [
    "# Apply chosen values to the full stack of image files\n",
    "Did the last images look right? If so, lets move on to bring all the images in. This will take quite a while, depending on your computer. \n",
    "\n",
    "The process is:\n",
    "1. import each image\n",
    "2. rotate it\n",
    "3. add it to a list\n",
    "4. after all images are imported, create an np.array with all channels\n",
    "5. crop array to desired y/x\n",
    "6. show a sample"
   ]
  },
  {
   "cell_type": "code",
   "execution_count": null,
   "metadata": {},
   "outputs": [],
   "source": [
    "### load raw images, rotate them, and add to a np.array\n",
    "field_image = np.stack([ndimage.rotate(load_img(channel_name), angle=182.4, reshape=True) for channel_name in rededge_mx_band_wl])\n",
    "\n",
    "ground_truth = pd.read_csv(params[\"ground_truth_path\"])\n",
    "\n",
    "# origin is upper left\n",
    "y_limits = [2400, 9800]\n",
    "x_limits = [1460, 3050]\n",
    "\n",
    "# crop to desired size (channels, y axis, x axis)\n",
    "field_image = field_image[:, y_limits[0] : y_limits[1], x_limits[0] : x_limits[1]]\n",
    "print(f\"final field_image.shape: {field_image.shape}\")\n",
    "show_image(field_image[0])"
   ]
  },
  {
   "cell_type": "markdown",
   "metadata": {},
   "source": [
    "# Congratulations! You have a field_image with all ten bands. "
   ]
  }
 ],
 "metadata": {
  "interpreter": {
   "hash": "97cbd93eb894fbab1a265c53fc61c23367c51d32364bda84dce3a4fe8ebbc10f"
  },
  "kernelspec": {
   "display_name": "Python 3.9.5 64-bit ('image-analysis': conda)",
   "name": "python3"
  },
  "language_info": {
   "codemirror_mode": {
    "name": "ipython",
    "version": 3
   },
   "file_extension": ".py",
   "mimetype": "text/x-python",
   "name": "python",
   "nbconvert_exporter": "python",
   "pygments_lexer": "ipython3",
   "version": "3.9.5"
  },
  "orig_nbformat": 4
 },
 "nbformat": 4,
 "nbformat_minor": 2
}
