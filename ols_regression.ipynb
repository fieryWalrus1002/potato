{
 "cells": [
  {
   "cell_type": "code",
   "execution_count": 13,
   "metadata": {},
   "outputs": [
    {
     "name": "stdout",
     "output_type": "stream",
     "text": [
      "The blackcellmagic extension is already loaded. To reload it, use:\n",
      "  %reload_ext blackcellmagic\n",
      "        yield  blue-blue-444  blue-green  blue-green-531\n",
      "0  641.218827       0.013329   -0.419273       -0.445662\n",
      "1  697.979880      -0.001042   -0.459447       -0.476955\n",
      "2  709.891479       0.008540   -0.433216       -0.455423\n",
      "3  674.191672       0.013697   -0.402593       -0.427173\n",
      "4  680.430664       0.003195   -0.457388       -0.475037\n"
     ]
    }
   ],
   "source": [
    "%load_ext blackcellmagic\n",
    "import pandas as pd\n",
    "import numpy as np\n",
    "import matplotlib.pyplot as plt\n",
    "from sklearn import linear_model\n",
    "from sklearn.model_selection import train_test_split\n",
    "from mpl_toolkits.mplot3d import Axes3D\n",
    "from pathlib import Path\n",
    "from sklearn import preprocessing\n",
    "\n",
    "\n",
    "# code from 'aegis4048.github.io', modified for VI and yield\n",
    "\n",
    "######################################## Data preparation #########################################\n",
    "\n",
    "# data path\n",
    "df_path = (\n",
    "    Path.cwd()\n",
    "    / \"data\"\n",
    "    / \"processed\"\n",
    "    / \"Jun22_2020\"\n",
    "    / \"Jun22_2020_df.csv\"\n",
    ")\n",
    "\n",
    "df = pd.read_csv(df_path).iloc[:, 2:]\n",
    "print(df.head().iloc[:,0:4])"
   ]
  },
  {
   "cell_type": "code",
   "execution_count": null,
   "metadata": {},
   "outputs": [],
   "source": []
  },
  {
   "cell_type": "code",
   "execution_count": 50,
   "metadata": {},
   "outputs": [
    {
     "name": "stdout",
     "output_type": "stream",
     "text": [
      "824.1496306416666 844.6471607804349\n",
      "[ 1.94289029e-16 -9.62193288e-16 -1.07321559e-15] [-2.09976963e-16  3.89302117e-15 -5.23011586e-15]\n"
     ]
    }
   ],
   "source": [
    "# Train Test Split\n",
    "train, test = train_test_split(df, test_size=0.2, shuffle=True)\n",
    "\n",
    "X_train = train.iloc[:, 1:4].values\n",
    "y_train = train['yield'].values\n",
    "\n",
    "X_test = test.iloc[:, 1:4].values\n",
    "y_test = test['yield'].values\n",
    "\n",
    "# scale features\n",
    "scaler = preprocessing.StandardScaler()\n",
    "\n",
    "X_test_scaled = scaler.fit_transform(X_test)\n",
    "X_train_scaled = scaler.fit_transform(X_train)"
   ]
  },
  {
   "cell_type": "code",
   "execution_count": 57,
   "metadata": {},
   "outputs": [
    {
     "data": {
      "text/plain": [
       "0.10092392404546358"
      ]
     },
     "execution_count": 57,
     "metadata": {},
     "output_type": "execute_result"
    }
   ],
   "source": [
    "################################################ Train #############################################\n",
    "\n",
    "ols = linear_model.LinearRegression()\n",
    "model = ols.fit(X_train_scaled, y_train)\n",
    "model.score(X_train_scaled, y_train)\n"
   ]
  },
  {
   "cell_type": "code",
   "execution_count": 58,
   "metadata": {},
   "outputs": [
    {
     "data": {
      "text/plain": [
       "-0.016905412202132375"
      ]
     },
     "execution_count": 58,
     "metadata": {},
     "output_type": "execute_result"
    }
   ],
   "source": [
    "############################################## Evaluate ############################################\n",
    "y_pred = model.predict(X_test_scaled)\n",
    "model.score(X_test_scaled, y_test)\n"
   ]
  },
  {
   "cell_type": "code",
   "execution_count": 60,
   "metadata": {},
   "outputs": [
    {
     "data": {
      "image/png": "[encoded data removed]",
      "text/plain": [
       "<Figure size 640x480 with 1 Axes>"
      ]
     },
     "metadata": {},
     "output_type": "display_data"
    }
   ],
   "source": [
    "############################################## Plot ################################################\n",
    "plt.scatter(y_test, y_pred)\n",
    "plt.show()\n"
   ]
  },
  {
   "cell_type": "code",
   "execution_count": null,
   "metadata": {},
   "outputs": [],
   "source": [
    "\n",
    "x = X_test_scaled[:,0]\n",
    "y = X_test_scaled[:,1]\n",
    "z = predicted\n",
    "\n",
    "plt.style.use('default')\n",
    "\n",
    "fig = plt.figure(figsize=(12, 4))\n",
    "\n",
    "ax1 = fig.add_subplot(131, projection='3d')\n",
    "ax2 = fig.add_subplot(132, projection='3d')\n",
    "ax3 = fig.add_subplot(133, projection='3d')\n",
    "\n",
    "axes = [ax1, ax2, ax3]\n",
    "\n",
    "for ax in axes:\n",
    "    ax.plot(x, y, z, color='k', zorder=15, linestyle='none', marker='o', alpha=0.5)\n",
    "    ax.scatter(x, y, predicted, facecolor=(0,0,0,0), s=20, edgecolor='#70b3f0')\n",
    "    ax.set_xlabel('NDVI', fontsize=12)\n",
    "    ax.set_ylabel('SAVI', fontsize=12)\n",
    "    ax.set_zlabel('yield (CWT/A)', fontsize=12)\n",
    "    ax.locator_params(nbins=4, axis='x')\n",
    "    ax.locator_params(nbins=5, axis='x')\n",
    "\n",
    "# ax1.text2D(0.2, 0.32, 'aegis4048.github.io', fontsize=13, ha='center', va='center',\n",
    "#            transform=ax1.transAxes, color='grey', alpha=0.5)\n",
    "# ax2.text2D(0.3, 0.42, 'aegis4048.github.io', fontsize=13, ha='center', va='center',\n",
    "#            transform=ax2.transAxes, color='grey', alpha=0.5)\n",
    "# ax3.text2D(0.85, 0.85, 'aegis4048.github.io', fontsize=13, ha='center', va='center',\n",
    "#            transform=ax3.transAxes, color='grey', alpha=0.5)\n",
    "\n",
    "ax1.view_init(elev=28, azim=120)\n",
    "ax2.view_init(elev=4, azim=114)\n",
    "ax3.view_init(elev=60, azim=165)\n",
    "\n",
    "fig.suptitle('$R^2 = %.2f$' % r2, fontsize=20)\n",
    "\n",
    "fig.tight_layout()\n",
    "\n"
   ]
  }
 ],
 "metadata": {
  "interpreter": {
   "hash": "97cbd93eb894fbab1a265c53fc61c23367c51d32364bda84dce3a4fe8ebbc10f"
  },
  "kernelspec": {
   "display_name": "Python 3.9.5 64-bit ('image-analysis': conda)",
   "name": "python3"
  },
  "language_info": {
   "codemirror_mode": {
    "name": "ipython",
    "version": 3
   },
   "file_extension": ".py",
   "mimetype": "text/x-python",
   "name": "python",
   "nbconvert_exporter": "python",
   "pygments_lexer": "ipython3",
   "version": "3.9.5"
  },
  "orig_nbformat": 4
 },
 "nbformat": 4,
 "nbformat_minor": 2
}
